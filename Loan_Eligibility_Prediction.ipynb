{
  "nbformat": 4,
  "nbformat_minor": 0,
  "metadata": {
    "colab": {
      "name": "Loan Eligibility Prediction.ipynb",
      "provenance": [],
      "collapsed_sections": [],
      "authorship_tag": "ABX9TyOsK+DyTZWcJC4izwZKkhNp",
      "include_colab_link": true
    },
    "kernelspec": {
      "name": "python3",
      "display_name": "Python 3"
    },
    "language_info": {
      "name": "python"
    }
  },
  "cells": [
    {
      "cell_type": "markdown",
      "metadata": {
        "id": "view-in-github",
        "colab_type": "text"
      },
      "source": [
        "<a href=\"https://colab.research.google.com/github/ABHAYB642/Loan-Eligibility-Prediction/blob/main/Loan_Eligibility_Prediction.ipynb\" target=\"_parent\"><img src=\"https://colab.research.google.com/assets/colab-badge.svg\" alt=\"Open In Colab\"/></a>"
      ]
    },
    {
      "cell_type": "markdown",
      "source": [
        "**ABHAY BIRAMANE**\n",
        "## LOAN ELIGIBILITY PREDICTION"
      ],
      "metadata": {
        "id": "K7brBIZABGS_"
      }
    },
    {
      "cell_type": "markdown",
      "source": [
        "### IMPORT LIBRARIES"
      ],
      "metadata": {
        "id": "ndelNdq-BWEz"
      }
    },
    {
      "cell_type": "code",
      "source": [
        "import pandas as pd\n",
        "import numpy as np\n",
        "import matplotlib.pyplot as plt"
      ],
      "metadata": {
        "id": "zIOQkYX341kk"
      },
      "execution_count": null,
      "outputs": []
    },
    {
      "cell_type": "markdown",
      "source": [
        "### IMPORT CSV AS DATAFRAME"
      ],
      "metadata": {
        "id": "KXeslmIRBZTM"
      }
    },
    {
      "cell_type": "code",
      "source": [
        "df=pd.read_csv('https://raw.githubusercontent.com/YBI-Foundation/Dataset/main/Loan%20Eligibility%20Prediction.csv')"
      ],
      "metadata": {
        "id": "hKTkBETh46uz"
      },
      "execution_count": null,
      "outputs": []
    },
    {
      "cell_type": "markdown",
      "source": [
        "### Get First Five Rows Of Dataframe"
      ],
      "metadata": {
        "id": "W8n12DX4BdQj"
      }
    },
    {
      "cell_type": "code",
      "source": [
        "df.head()"
      ],
      "metadata": {
        "colab": {
          "base_uri": "https://localhost:8080/",
          "height": 250
        },
        "id": "kUysYVNO5KJm",
        "outputId": "08dfb187-6d53-4b24-ed95-8efafc1111a4"
      },
      "execution_count": null,
      "outputs": [
        {
          "output_type": "execute_result",
          "data": {
            "text/plain": [
              "   Customer_ID  Gender Married  Dependents     Education Self_Employed  \\\n",
              "0          569  Female      No           0      Graduate            No   \n",
              "1           15    Male     Yes           2      Graduate            No   \n",
              "2           95    Male      No           0  Not Graduate            No   \n",
              "3          134    Male     Yes           0      Graduate           Yes   \n",
              "4          556    Male     Yes           1      Graduate            No   \n",
              "\n",
              "   Applicant_Income  Coapplicant_Income  Loan_Amount  Loan_Amount_Term  \\\n",
              "0              2378                 0.0            9               360   \n",
              "1              1299              1086.0           17               120   \n",
              "2              3620                 0.0           25               120   \n",
              "3              3459                 0.0           25               120   \n",
              "4              5468              1032.0           26               360   \n",
              "\n",
              "   Credit_History Property_Area Loan_Status  \n",
              "0               1         Urban           N  \n",
              "1               1         Urban           Y  \n",
              "2               1     Semiurban           Y  \n",
              "3               1     Semiurban           Y  \n",
              "4               1     Semiurban           Y  "
            ],
            "text/html": [
              "\n",
              "  <div id=\"df-0039ad0e-f610-41bd-907d-6c0dc415784e\">\n",
              "    <div class=\"colab-df-container\">\n",
              "      <div>\n",
              "<style scoped>\n",
              "    .dataframe tbody tr th:only-of-type {\n",
              "        vertical-align: middle;\n",
              "    }\n",
              "\n",
              "    .dataframe tbody tr th {\n",
              "        vertical-align: top;\n",
              "    }\n",
              "\n",
              "    .dataframe thead th {\n",
              "        text-align: right;\n",
              "    }\n",
              "</style>\n",
              "<table border=\"1\" class=\"dataframe\">\n",
              "  <thead>\n",
              "    <tr style=\"text-align: right;\">\n",
              "      <th></th>\n",
              "      <th>Customer_ID</th>\n",
              "      <th>Gender</th>\n",
              "      <th>Married</th>\n",
              "      <th>Dependents</th>\n",
              "      <th>Education</th>\n",
              "      <th>Self_Employed</th>\n",
              "      <th>Applicant_Income</th>\n",
              "      <th>Coapplicant_Income</th>\n",
              "      <th>Loan_Amount</th>\n",
              "      <th>Loan_Amount_Term</th>\n",
              "      <th>Credit_History</th>\n",
              "      <th>Property_Area</th>\n",
              "      <th>Loan_Status</th>\n",
              "    </tr>\n",
              "  </thead>\n",
              "  <tbody>\n",
              "    <tr>\n",
              "      <th>0</th>\n",
              "      <td>569</td>\n",
              "      <td>Female</td>\n",
              "      <td>No</td>\n",
              "      <td>0</td>\n",
              "      <td>Graduate</td>\n",
              "      <td>No</td>\n",
              "      <td>2378</td>\n",
              "      <td>0.0</td>\n",
              "      <td>9</td>\n",
              "      <td>360</td>\n",
              "      <td>1</td>\n",
              "      <td>Urban</td>\n",
              "      <td>N</td>\n",
              "    </tr>\n",
              "    <tr>\n",
              "      <th>1</th>\n",
              "      <td>15</td>\n",
              "      <td>Male</td>\n",
              "      <td>Yes</td>\n",
              "      <td>2</td>\n",
              "      <td>Graduate</td>\n",
              "      <td>No</td>\n",
              "      <td>1299</td>\n",
              "      <td>1086.0</td>\n",
              "      <td>17</td>\n",
              "      <td>120</td>\n",
              "      <td>1</td>\n",
              "      <td>Urban</td>\n",
              "      <td>Y</td>\n",
              "    </tr>\n",
              "    <tr>\n",
              "      <th>2</th>\n",
              "      <td>95</td>\n",
              "      <td>Male</td>\n",
              "      <td>No</td>\n",
              "      <td>0</td>\n",
              "      <td>Not Graduate</td>\n",
              "      <td>No</td>\n",
              "      <td>3620</td>\n",
              "      <td>0.0</td>\n",
              "      <td>25</td>\n",
              "      <td>120</td>\n",
              "      <td>1</td>\n",
              "      <td>Semiurban</td>\n",
              "      <td>Y</td>\n",
              "    </tr>\n",
              "    <tr>\n",
              "      <th>3</th>\n",
              "      <td>134</td>\n",
              "      <td>Male</td>\n",
              "      <td>Yes</td>\n",
              "      <td>0</td>\n",
              "      <td>Graduate</td>\n",
              "      <td>Yes</td>\n",
              "      <td>3459</td>\n",
              "      <td>0.0</td>\n",
              "      <td>25</td>\n",
              "      <td>120</td>\n",
              "      <td>1</td>\n",
              "      <td>Semiurban</td>\n",
              "      <td>Y</td>\n",
              "    </tr>\n",
              "    <tr>\n",
              "      <th>4</th>\n",
              "      <td>556</td>\n",
              "      <td>Male</td>\n",
              "      <td>Yes</td>\n",
              "      <td>1</td>\n",
              "      <td>Graduate</td>\n",
              "      <td>No</td>\n",
              "      <td>5468</td>\n",
              "      <td>1032.0</td>\n",
              "      <td>26</td>\n",
              "      <td>360</td>\n",
              "      <td>1</td>\n",
              "      <td>Semiurban</td>\n",
              "      <td>Y</td>\n",
              "    </tr>\n",
              "  </tbody>\n",
              "</table>\n",
              "</div>\n",
              "      <button class=\"colab-df-convert\" onclick=\"convertToInteractive('df-0039ad0e-f610-41bd-907d-6c0dc415784e')\"\n",
              "              title=\"Convert this dataframe to an interactive table.\"\n",
              "              style=\"display:none;\">\n",
              "        \n",
              "  <svg xmlns=\"http://www.w3.org/2000/svg\" height=\"24px\"viewBox=\"0 0 24 24\"\n",
              "       width=\"24px\">\n",
              "    <path d=\"M0 0h24v24H0V0z\" fill=\"none\"/>\n",
              "    <path d=\"M18.56 5.44l.94 2.06.94-2.06 2.06-.94-2.06-.94-.94-2.06-.94 2.06-2.06.94zm-11 1L8.5 8.5l.94-2.06 2.06-.94-2.06-.94L8.5 2.5l-.94 2.06-2.06.94zm10 10l.94 2.06.94-2.06 2.06-.94-2.06-.94-.94-2.06-.94 2.06-2.06.94z\"/><path d=\"M17.41 7.96l-1.37-1.37c-.4-.4-.92-.59-1.43-.59-.52 0-1.04.2-1.43.59L10.3 9.45l-7.72 7.72c-.78.78-.78 2.05 0 2.83L4 21.41c.39.39.9.59 1.41.59.51 0 1.02-.2 1.41-.59l7.78-7.78 2.81-2.81c.8-.78.8-2.07 0-2.86zM5.41 20L4 18.59l7.72-7.72 1.47 1.35L5.41 20z\"/>\n",
              "  </svg>\n",
              "      </button>\n",
              "      \n",
              "  <style>\n",
              "    .colab-df-container {\n",
              "      display:flex;\n",
              "      flex-wrap:wrap;\n",
              "      gap: 12px;\n",
              "    }\n",
              "\n",
              "    .colab-df-convert {\n",
              "      background-color: #E8F0FE;\n",
              "      border: none;\n",
              "      border-radius: 50%;\n",
              "      cursor: pointer;\n",
              "      display: none;\n",
              "      fill: #1967D2;\n",
              "      height: 32px;\n",
              "      padding: 0 0 0 0;\n",
              "      width: 32px;\n",
              "    }\n",
              "\n",
              "    .colab-df-convert:hover {\n",
              "      background-color: #E2EBFA;\n",
              "      box-shadow: 0px 1px 2px rgba(60, 64, 67, 0.3), 0px 1px 3px 1px rgba(60, 64, 67, 0.15);\n",
              "      fill: #174EA6;\n",
              "    }\n",
              "\n",
              "    [theme=dark] .colab-df-convert {\n",
              "      background-color: #3B4455;\n",
              "      fill: #D2E3FC;\n",
              "    }\n",
              "\n",
              "    [theme=dark] .colab-df-convert:hover {\n",
              "      background-color: #434B5C;\n",
              "      box-shadow: 0px 1px 3px 1px rgba(0, 0, 0, 0.15);\n",
              "      filter: drop-shadow(0px 1px 2px rgba(0, 0, 0, 0.3));\n",
              "      fill: #FFFFFF;\n",
              "    }\n",
              "  </style>\n",
              "\n",
              "      <script>\n",
              "        const buttonEl =\n",
              "          document.querySelector('#df-0039ad0e-f610-41bd-907d-6c0dc415784e button.colab-df-convert');\n",
              "        buttonEl.style.display =\n",
              "          google.colab.kernel.accessAllowed ? 'block' : 'none';\n",
              "\n",
              "        async function convertToInteractive(key) {\n",
              "          const element = document.querySelector('#df-0039ad0e-f610-41bd-907d-6c0dc415784e');\n",
              "          const dataTable =\n",
              "            await google.colab.kernel.invokeFunction('convertToInteractive',\n",
              "                                                     [key], {});\n",
              "          if (!dataTable) return;\n",
              "\n",
              "          const docLinkHtml = 'Like what you see? Visit the ' +\n",
              "            '<a target=\"_blank\" href=https://colab.research.google.com/notebooks/data_table.ipynb>data table notebook</a>'\n",
              "            + ' to learn more about interactive tables.';\n",
              "          element.innerHTML = '';\n",
              "          dataTable['output_type'] = 'display_data';\n",
              "          await google.colab.output.renderOutput(dataTable, element);\n",
              "          const docLink = document.createElement('div');\n",
              "          docLink.innerHTML = docLinkHtml;\n",
              "          element.appendChild(docLink);\n",
              "        }\n",
              "      </script>\n",
              "    </div>\n",
              "  </div>\n",
              "  "
            ]
          },
          "metadata": {},
          "execution_count": 12
        }
      ]
    },
    {
      "cell_type": "markdown",
      "source": [
        "### Get Information of dataframe"
      ],
      "metadata": {
        "id": "Ua_bZpA4BmoM"
      }
    },
    {
      "cell_type": "code",
      "source": [
        "df.info()"
      ],
      "metadata": {
        "colab": {
          "base_uri": "https://localhost:8080/"
        },
        "id": "mAHQuN-m5L7h",
        "outputId": "07e4627e-a241-42e4-9266-8a328581ff46"
      },
      "execution_count": null,
      "outputs": [
        {
          "output_type": "stream",
          "name": "stdout",
          "text": [
            "<class 'pandas.core.frame.DataFrame'>\n",
            "RangeIndex: 614 entries, 0 to 613\n",
            "Data columns (total 13 columns):\n",
            " #   Column              Non-Null Count  Dtype  \n",
            "---  ------              --------------  -----  \n",
            " 0   Customer_ID         614 non-null    int64  \n",
            " 1   Gender              614 non-null    object \n",
            " 2   Married             614 non-null    object \n",
            " 3   Dependents          614 non-null    int64  \n",
            " 4   Education           614 non-null    object \n",
            " 5   Self_Employed       614 non-null    object \n",
            " 6   Applicant_Income    614 non-null    int64  \n",
            " 7   Coapplicant_Income  614 non-null    float64\n",
            " 8   Loan_Amount         614 non-null    int64  \n",
            " 9   Loan_Amount_Term    614 non-null    int64  \n",
            " 10  Credit_History      614 non-null    int64  \n",
            " 11  Property_Area       614 non-null    object \n",
            " 12  Loan_Status         614 non-null    object \n",
            "dtypes: float64(1), int64(6), object(6)\n",
            "memory usage: 62.5+ KB\n"
          ]
        }
      ]
    },
    {
      "cell_type": "markdown",
      "source": [
        "### Get Column Names"
      ],
      "metadata": {
        "id": "KkQZADtWBl5Q"
      }
    },
    {
      "cell_type": "code",
      "source": [
        "df.columns"
      ],
      "metadata": {
        "colab": {
          "base_uri": "https://localhost:8080/"
        },
        "id": "DF4qAK3n5PZb",
        "outputId": "d86717af-b251-4c4f-9796-bbf158f8a7ca"
      },
      "execution_count": null,
      "outputs": [
        {
          "output_type": "execute_result",
          "data": {
            "text/plain": [
              "Index(['Customer_ID', 'Gender', 'Married', 'Dependents', 'Education',\n",
              "       'Self_Employed', 'Applicant_Income', 'Coapplicant_Income',\n",
              "       'Loan_Amount', 'Loan_Amount_Term', 'Credit_History', 'Property_Area',\n",
              "       'Loan_Status'],\n",
              "      dtype='object')"
            ]
          },
          "metadata": {},
          "execution_count": 14
        }
      ]
    },
    {
      "cell_type": "markdown",
      "source": [
        "### Get Summary Statistics"
      ],
      "metadata": {
        "id": "2SzJzOZVBtgJ"
      }
    },
    {
      "cell_type": "code",
      "source": [
        "df.describe()"
      ],
      "metadata": {
        "colab": {
          "base_uri": "https://localhost:8080/",
          "height": 300
        },
        "id": "D16Uqmd35Tba",
        "outputId": "10deff20-2fed-4c9a-95dd-f57664aed44e"
      },
      "execution_count": null,
      "outputs": [
        {
          "output_type": "execute_result",
          "data": {
            "text/plain": [
              "       Customer_ID  Dependents  Applicant_Income  Coapplicant_Income  \\\n",
              "count   614.000000  614.000000        614.000000          614.000000   \n",
              "mean    307.500000    0.856678       5403.459283         1621.245798   \n",
              "std     177.390811    1.216651       6109.041673         2926.248369   \n",
              "min       1.000000    0.000000        150.000000            0.000000   \n",
              "25%     154.250000    0.000000       2877.500000            0.000000   \n",
              "50%     307.500000    0.000000       3812.500000         1188.500000   \n",
              "75%     460.750000    2.000000       5795.000000         2297.250000   \n",
              "max     614.000000    4.000000      81000.000000        41667.000000   \n",
              "\n",
              "       Loan_Amount  Loan_Amount_Term  Credit_History  \n",
              "count   614.000000        614.000000      614.000000  \n",
              "mean    142.022801        338.892508        0.850163  \n",
              "std      87.083089         69.716355        0.357203  \n",
              "min       9.000000         12.000000        0.000000  \n",
              "25%      98.000000        360.000000        1.000000  \n",
              "50%     125.000000        360.000000        1.000000  \n",
              "75%     164.750000        360.000000        1.000000  \n",
              "max     700.000000        480.000000        1.000000  "
            ],
            "text/html": [
              "\n",
              "  <div id=\"df-acacbbbf-3174-44a6-8839-1f1fc472cb4b\">\n",
              "    <div class=\"colab-df-container\">\n",
              "      <div>\n",
              "<style scoped>\n",
              "    .dataframe tbody tr th:only-of-type {\n",
              "        vertical-align: middle;\n",
              "    }\n",
              "\n",
              "    .dataframe tbody tr th {\n",
              "        vertical-align: top;\n",
              "    }\n",
              "\n",
              "    .dataframe thead th {\n",
              "        text-align: right;\n",
              "    }\n",
              "</style>\n",
              "<table border=\"1\" class=\"dataframe\">\n",
              "  <thead>\n",
              "    <tr style=\"text-align: right;\">\n",
              "      <th></th>\n",
              "      <th>Customer_ID</th>\n",
              "      <th>Dependents</th>\n",
              "      <th>Applicant_Income</th>\n",
              "      <th>Coapplicant_Income</th>\n",
              "      <th>Loan_Amount</th>\n",
              "      <th>Loan_Amount_Term</th>\n",
              "      <th>Credit_History</th>\n",
              "    </tr>\n",
              "  </thead>\n",
              "  <tbody>\n",
              "    <tr>\n",
              "      <th>count</th>\n",
              "      <td>614.000000</td>\n",
              "      <td>614.000000</td>\n",
              "      <td>614.000000</td>\n",
              "      <td>614.000000</td>\n",
              "      <td>614.000000</td>\n",
              "      <td>614.000000</td>\n",
              "      <td>614.000000</td>\n",
              "    </tr>\n",
              "    <tr>\n",
              "      <th>mean</th>\n",
              "      <td>307.500000</td>\n",
              "      <td>0.856678</td>\n",
              "      <td>5403.459283</td>\n",
              "      <td>1621.245798</td>\n",
              "      <td>142.022801</td>\n",
              "      <td>338.892508</td>\n",
              "      <td>0.850163</td>\n",
              "    </tr>\n",
              "    <tr>\n",
              "      <th>std</th>\n",
              "      <td>177.390811</td>\n",
              "      <td>1.216651</td>\n",
              "      <td>6109.041673</td>\n",
              "      <td>2926.248369</td>\n",
              "      <td>87.083089</td>\n",
              "      <td>69.716355</td>\n",
              "      <td>0.357203</td>\n",
              "    </tr>\n",
              "    <tr>\n",
              "      <th>min</th>\n",
              "      <td>1.000000</td>\n",
              "      <td>0.000000</td>\n",
              "      <td>150.000000</td>\n",
              "      <td>0.000000</td>\n",
              "      <td>9.000000</td>\n",
              "      <td>12.000000</td>\n",
              "      <td>0.000000</td>\n",
              "    </tr>\n",
              "    <tr>\n",
              "      <th>25%</th>\n",
              "      <td>154.250000</td>\n",
              "      <td>0.000000</td>\n",
              "      <td>2877.500000</td>\n",
              "      <td>0.000000</td>\n",
              "      <td>98.000000</td>\n",
              "      <td>360.000000</td>\n",
              "      <td>1.000000</td>\n",
              "    </tr>\n",
              "    <tr>\n",
              "      <th>50%</th>\n",
              "      <td>307.500000</td>\n",
              "      <td>0.000000</td>\n",
              "      <td>3812.500000</td>\n",
              "      <td>1188.500000</td>\n",
              "      <td>125.000000</td>\n",
              "      <td>360.000000</td>\n",
              "      <td>1.000000</td>\n",
              "    </tr>\n",
              "    <tr>\n",
              "      <th>75%</th>\n",
              "      <td>460.750000</td>\n",
              "      <td>2.000000</td>\n",
              "      <td>5795.000000</td>\n",
              "      <td>2297.250000</td>\n",
              "      <td>164.750000</td>\n",
              "      <td>360.000000</td>\n",
              "      <td>1.000000</td>\n",
              "    </tr>\n",
              "    <tr>\n",
              "      <th>max</th>\n",
              "      <td>614.000000</td>\n",
              "      <td>4.000000</td>\n",
              "      <td>81000.000000</td>\n",
              "      <td>41667.000000</td>\n",
              "      <td>700.000000</td>\n",
              "      <td>480.000000</td>\n",
              "      <td>1.000000</td>\n",
              "    </tr>\n",
              "  </tbody>\n",
              "</table>\n",
              "</div>\n",
              "      <button class=\"colab-df-convert\" onclick=\"convertToInteractive('df-acacbbbf-3174-44a6-8839-1f1fc472cb4b')\"\n",
              "              title=\"Convert this dataframe to an interactive table.\"\n",
              "              style=\"display:none;\">\n",
              "        \n",
              "  <svg xmlns=\"http://www.w3.org/2000/svg\" height=\"24px\"viewBox=\"0 0 24 24\"\n",
              "       width=\"24px\">\n",
              "    <path d=\"M0 0h24v24H0V0z\" fill=\"none\"/>\n",
              "    <path d=\"M18.56 5.44l.94 2.06.94-2.06 2.06-.94-2.06-.94-.94-2.06-.94 2.06-2.06.94zm-11 1L8.5 8.5l.94-2.06 2.06-.94-2.06-.94L8.5 2.5l-.94 2.06-2.06.94zm10 10l.94 2.06.94-2.06 2.06-.94-2.06-.94-.94-2.06-.94 2.06-2.06.94z\"/><path d=\"M17.41 7.96l-1.37-1.37c-.4-.4-.92-.59-1.43-.59-.52 0-1.04.2-1.43.59L10.3 9.45l-7.72 7.72c-.78.78-.78 2.05 0 2.83L4 21.41c.39.39.9.59 1.41.59.51 0 1.02-.2 1.41-.59l7.78-7.78 2.81-2.81c.8-.78.8-2.07 0-2.86zM5.41 20L4 18.59l7.72-7.72 1.47 1.35L5.41 20z\"/>\n",
              "  </svg>\n",
              "      </button>\n",
              "      \n",
              "  <style>\n",
              "    .colab-df-container {\n",
              "      display:flex;\n",
              "      flex-wrap:wrap;\n",
              "      gap: 12px;\n",
              "    }\n",
              "\n",
              "    .colab-df-convert {\n",
              "      background-color: #E8F0FE;\n",
              "      border: none;\n",
              "      border-radius: 50%;\n",
              "      cursor: pointer;\n",
              "      display: none;\n",
              "      fill: #1967D2;\n",
              "      height: 32px;\n",
              "      padding: 0 0 0 0;\n",
              "      width: 32px;\n",
              "    }\n",
              "\n",
              "    .colab-df-convert:hover {\n",
              "      background-color: #E2EBFA;\n",
              "      box-shadow: 0px 1px 2px rgba(60, 64, 67, 0.3), 0px 1px 3px 1px rgba(60, 64, 67, 0.15);\n",
              "      fill: #174EA6;\n",
              "    }\n",
              "\n",
              "    [theme=dark] .colab-df-convert {\n",
              "      background-color: #3B4455;\n",
              "      fill: #D2E3FC;\n",
              "    }\n",
              "\n",
              "    [theme=dark] .colab-df-convert:hover {\n",
              "      background-color: #434B5C;\n",
              "      box-shadow: 0px 1px 3px 1px rgba(0, 0, 0, 0.15);\n",
              "      filter: drop-shadow(0px 1px 2px rgba(0, 0, 0, 0.3));\n",
              "      fill: #FFFFFF;\n",
              "    }\n",
              "  </style>\n",
              "\n",
              "      <script>\n",
              "        const buttonEl =\n",
              "          document.querySelector('#df-acacbbbf-3174-44a6-8839-1f1fc472cb4b button.colab-df-convert');\n",
              "        buttonEl.style.display =\n",
              "          google.colab.kernel.accessAllowed ? 'block' : 'none';\n",
              "\n",
              "        async function convertToInteractive(key) {\n",
              "          const element = document.querySelector('#df-acacbbbf-3174-44a6-8839-1f1fc472cb4b');\n",
              "          const dataTable =\n",
              "            await google.colab.kernel.invokeFunction('convertToInteractive',\n",
              "                                                     [key], {});\n",
              "          if (!dataTable) return;\n",
              "\n",
              "          const docLinkHtml = 'Like what you see? Visit the ' +\n",
              "            '<a target=\"_blank\" href=https://colab.research.google.com/notebooks/data_table.ipynb>data table notebook</a>'\n",
              "            + ' to learn more about interactive tables.';\n",
              "          element.innerHTML = '';\n",
              "          dataTable['output_type'] = 'display_data';\n",
              "          await google.colab.output.renderOutput(dataTable, element);\n",
              "          const docLink = document.createElement('div');\n",
              "          docLink.innerHTML = docLinkHtml;\n",
              "          element.appendChild(docLink);\n",
              "        }\n",
              "      </script>\n",
              "    </div>\n",
              "  </div>\n",
              "  "
            ]
          },
          "metadata": {},
          "execution_count": 15
        }
      ]
    },
    {
      "cell_type": "markdown",
      "source": [
        "### Get Shape of Dataframe"
      ],
      "metadata": {
        "id": "3IkIeb8mBxU7"
      }
    },
    {
      "cell_type": "code",
      "source": [
        "df.shape"
      ],
      "metadata": {
        "colab": {
          "base_uri": "https://localhost:8080/"
        },
        "id": "Xdnq4QCc5VOB",
        "outputId": "ee8b85c5-766c-4188-d49b-7309171dac8a"
      },
      "execution_count": null,
      "outputs": [
        {
          "output_type": "execute_result",
          "data": {
            "text/plain": [
              "(614, 13)"
            ]
          },
          "metadata": {},
          "execution_count": 16
        }
      ]
    },
    {
      "cell_type": "markdown",
      "source": [
        "### Get Unique values in y Variable"
      ],
      "metadata": {
        "id": "ZtRvPlokB3nw"
      }
    },
    {
      "cell_type": "code",
      "source": [
        "df['Loan_Status'].value_counts()"
      ],
      "metadata": {
        "colab": {
          "base_uri": "https://localhost:8080/"
        },
        "id": "_bNx3bMP5bEi",
        "outputId": "691a1a5d-3be8-464e-9e81-3396f1b0c025"
      },
      "execution_count": null,
      "outputs": [
        {
          "output_type": "execute_result",
          "data": {
            "text/plain": [
              "Y    422\n",
              "N    192\n",
              "Name: Loan_Status, dtype: int64"
            ]
          },
          "metadata": {},
          "execution_count": 18
        }
      ]
    },
    {
      "cell_type": "code",
      "source": [
        "df.groupby('Loan_Status').mean()"
      ],
      "metadata": {
        "colab": {
          "base_uri": "https://localhost:8080/",
          "height": 143
        },
        "id": "szdobySm53-1",
        "outputId": "f872955e-5a0b-4ffe-9c5a-bd4c8fae0645"
      },
      "execution_count": null,
      "outputs": [
        {
          "output_type": "execute_result",
          "data": {
            "text/plain": [
              "             Customer_ID  Dependents  Applicant_Income  Coapplicant_Income  \\\n",
              "Loan_Status                                                                  \n",
              "N             304.406250    0.864583       5446.078125         1877.807292   \n",
              "Y             308.907583    0.853081       5384.068720         1504.516398   \n",
              "\n",
              "             Loan_Amount  Loan_Amount_Term  Credit_History  \n",
              "Loan_Status                                                 \n",
              "N             143.869792        339.562500        0.572917  \n",
              "Y             141.182464        338.587678        0.976303  "
            ],
            "text/html": [
              "\n",
              "  <div id=\"df-6345e940-9521-450e-b14d-973c5d011866\">\n",
              "    <div class=\"colab-df-container\">\n",
              "      <div>\n",
              "<style scoped>\n",
              "    .dataframe tbody tr th:only-of-type {\n",
              "        vertical-align: middle;\n",
              "    }\n",
              "\n",
              "    .dataframe tbody tr th {\n",
              "        vertical-align: top;\n",
              "    }\n",
              "\n",
              "    .dataframe thead th {\n",
              "        text-align: right;\n",
              "    }\n",
              "</style>\n",
              "<table border=\"1\" class=\"dataframe\">\n",
              "  <thead>\n",
              "    <tr style=\"text-align: right;\">\n",
              "      <th></th>\n",
              "      <th>Customer_ID</th>\n",
              "      <th>Dependents</th>\n",
              "      <th>Applicant_Income</th>\n",
              "      <th>Coapplicant_Income</th>\n",
              "      <th>Loan_Amount</th>\n",
              "      <th>Loan_Amount_Term</th>\n",
              "      <th>Credit_History</th>\n",
              "    </tr>\n",
              "    <tr>\n",
              "      <th>Loan_Status</th>\n",
              "      <th></th>\n",
              "      <th></th>\n",
              "      <th></th>\n",
              "      <th></th>\n",
              "      <th></th>\n",
              "      <th></th>\n",
              "      <th></th>\n",
              "    </tr>\n",
              "  </thead>\n",
              "  <tbody>\n",
              "    <tr>\n",
              "      <th>N</th>\n",
              "      <td>304.406250</td>\n",
              "      <td>0.864583</td>\n",
              "      <td>5446.078125</td>\n",
              "      <td>1877.807292</td>\n",
              "      <td>143.869792</td>\n",
              "      <td>339.562500</td>\n",
              "      <td>0.572917</td>\n",
              "    </tr>\n",
              "    <tr>\n",
              "      <th>Y</th>\n",
              "      <td>308.907583</td>\n",
              "      <td>0.853081</td>\n",
              "      <td>5384.068720</td>\n",
              "      <td>1504.516398</td>\n",
              "      <td>141.182464</td>\n",
              "      <td>338.587678</td>\n",
              "      <td>0.976303</td>\n",
              "    </tr>\n",
              "  </tbody>\n",
              "</table>\n",
              "</div>\n",
              "      <button class=\"colab-df-convert\" onclick=\"convertToInteractive('df-6345e940-9521-450e-b14d-973c5d011866')\"\n",
              "              title=\"Convert this dataframe to an interactive table.\"\n",
              "              style=\"display:none;\">\n",
              "        \n",
              "  <svg xmlns=\"http://www.w3.org/2000/svg\" height=\"24px\"viewBox=\"0 0 24 24\"\n",
              "       width=\"24px\">\n",
              "    <path d=\"M0 0h24v24H0V0z\" fill=\"none\"/>\n",
              "    <path d=\"M18.56 5.44l.94 2.06.94-2.06 2.06-.94-2.06-.94-.94-2.06-.94 2.06-2.06.94zm-11 1L8.5 8.5l.94-2.06 2.06-.94-2.06-.94L8.5 2.5l-.94 2.06-2.06.94zm10 10l.94 2.06.94-2.06 2.06-.94-2.06-.94-.94-2.06-.94 2.06-2.06.94z\"/><path d=\"M17.41 7.96l-1.37-1.37c-.4-.4-.92-.59-1.43-.59-.52 0-1.04.2-1.43.59L10.3 9.45l-7.72 7.72c-.78.78-.78 2.05 0 2.83L4 21.41c.39.39.9.59 1.41.59.51 0 1.02-.2 1.41-.59l7.78-7.78 2.81-2.81c.8-.78.8-2.07 0-2.86zM5.41 20L4 18.59l7.72-7.72 1.47 1.35L5.41 20z\"/>\n",
              "  </svg>\n",
              "      </button>\n",
              "      \n",
              "  <style>\n",
              "    .colab-df-container {\n",
              "      display:flex;\n",
              "      flex-wrap:wrap;\n",
              "      gap: 12px;\n",
              "    }\n",
              "\n",
              "    .colab-df-convert {\n",
              "      background-color: #E8F0FE;\n",
              "      border: none;\n",
              "      border-radius: 50%;\n",
              "      cursor: pointer;\n",
              "      display: none;\n",
              "      fill: #1967D2;\n",
              "      height: 32px;\n",
              "      padding: 0 0 0 0;\n",
              "      width: 32px;\n",
              "    }\n",
              "\n",
              "    .colab-df-convert:hover {\n",
              "      background-color: #E2EBFA;\n",
              "      box-shadow: 0px 1px 2px rgba(60, 64, 67, 0.3), 0px 1px 3px 1px rgba(60, 64, 67, 0.15);\n",
              "      fill: #174EA6;\n",
              "    }\n",
              "\n",
              "    [theme=dark] .colab-df-convert {\n",
              "      background-color: #3B4455;\n",
              "      fill: #D2E3FC;\n",
              "    }\n",
              "\n",
              "    [theme=dark] .colab-df-convert:hover {\n",
              "      background-color: #434B5C;\n",
              "      box-shadow: 0px 1px 3px 1px rgba(0, 0, 0, 0.15);\n",
              "      filter: drop-shadow(0px 1px 2px rgba(0, 0, 0, 0.3));\n",
              "      fill: #FFFFFF;\n",
              "    }\n",
              "  </style>\n",
              "\n",
              "      <script>\n",
              "        const buttonEl =\n",
              "          document.querySelector('#df-6345e940-9521-450e-b14d-973c5d011866 button.colab-df-convert');\n",
              "        buttonEl.style.display =\n",
              "          google.colab.kernel.accessAllowed ? 'block' : 'none';\n",
              "\n",
              "        async function convertToInteractive(key) {\n",
              "          const element = document.querySelector('#df-6345e940-9521-450e-b14d-973c5d011866');\n",
              "          const dataTable =\n",
              "            await google.colab.kernel.invokeFunction('convertToInteractive',\n",
              "                                                     [key], {});\n",
              "          if (!dataTable) return;\n",
              "\n",
              "          const docLinkHtml = 'Like what you see? Visit the ' +\n",
              "            '<a target=\"_blank\" href=https://colab.research.google.com/notebooks/data_table.ipynb>data table notebook</a>'\n",
              "            + ' to learn more about interactive tables.';\n",
              "          element.innerHTML = '';\n",
              "          dataTable['output_type'] = 'display_data';\n",
              "          await google.colab.output.renderOutput(dataTable, element);\n",
              "          const docLink = document.createElement('div');\n",
              "          docLink.innerHTML = docLinkHtml;\n",
              "          element.appendChild(docLink);\n",
              "        }\n",
              "      </script>\n",
              "    </div>\n",
              "  </div>\n",
              "  "
            ]
          },
          "metadata": {},
          "execution_count": 19
        }
      ]
    },
    {
      "cell_type": "markdown",
      "source": [
        "### Get Categories and Counts of Categorical Variables"
      ],
      "metadata": {
        "id": "vcFCfi4DCJ4T"
      }
    },
    {
      "cell_type": "code",
      "source": [
        "df['Gender'].value_counts()"
      ],
      "metadata": {
        "colab": {
          "base_uri": "https://localhost:8080/"
        },
        "id": "yLybptuvCE1b",
        "outputId": "8446f80c-bc19-4345-b34d-3313af03f325"
      },
      "execution_count": null,
      "outputs": [
        {
          "output_type": "execute_result",
          "data": {
            "text/plain": [
              "0    499\n",
              "1    115\n",
              "Name: Gender, dtype: int64"
            ]
          },
          "metadata": {},
          "execution_count": 78
        }
      ]
    },
    {
      "cell_type": "code",
      "source": [
        "df['Loan_Status'].value_counts()"
      ],
      "metadata": {
        "colab": {
          "base_uri": "https://localhost:8080/"
        },
        "id": "yqvF9dTZ6EAY",
        "outputId": "e9fee448-1b94-4976-94d4-45804e8b3b0e"
      },
      "execution_count": null,
      "outputs": [
        {
          "output_type": "execute_result",
          "data": {
            "text/plain": [
              "Y    422\n",
              "N    192\n",
              "Name: Loan_Status, dtype: int64"
            ]
          },
          "metadata": {},
          "execution_count": 20
        }
      ]
    },
    {
      "cell_type": "code",
      "source": [
        "df['Married'].value_counts()"
      ],
      "metadata": {
        "colab": {
          "base_uri": "https://localhost:8080/"
        },
        "id": "5icDiZyX6FRE",
        "outputId": "a17b016f-2cfc-4bc2-f070-5fbb2c8d6a89"
      },
      "execution_count": null,
      "outputs": [
        {
          "output_type": "execute_result",
          "data": {
            "text/plain": [
              "Yes    399\n",
              "No     215\n",
              "Name: Married, dtype: int64"
            ]
          },
          "metadata": {},
          "execution_count": 21
        }
      ]
    },
    {
      "cell_type": "code",
      "source": [
        "df['Education'].value_counts()"
      ],
      "metadata": {
        "colab": {
          "base_uri": "https://localhost:8080/"
        },
        "id": "A2cezKBx6GYc",
        "outputId": "2ce90104-c3fb-43ea-b755-017c99fc8f47"
      },
      "execution_count": null,
      "outputs": [
        {
          "output_type": "execute_result",
          "data": {
            "text/plain": [
              "Graduate        480\n",
              "Not Graduate    134\n",
              "Name: Education, dtype: int64"
            ]
          },
          "metadata": {},
          "execution_count": 22
        }
      ]
    },
    {
      "cell_type": "code",
      "source": [
        "df['Self_Employed'].value_counts()"
      ],
      "metadata": {
        "colab": {
          "base_uri": "https://localhost:8080/"
        },
        "id": "7RLr56rV6Nbv",
        "outputId": "1b2e56ea-152a-4310-f940-d3739aa741e4"
      },
      "execution_count": null,
      "outputs": [
        {
          "output_type": "execute_result",
          "data": {
            "text/plain": [
              "No     523\n",
              "Yes     91\n",
              "Name: Self_Employed, dtype: int64"
            ]
          },
          "metadata": {},
          "execution_count": 23
        }
      ]
    },
    {
      "cell_type": "code",
      "source": [
        "df['Property_Area'].value_counts()"
      ],
      "metadata": {
        "colab": {
          "base_uri": "https://localhost:8080/"
        },
        "id": "ZSWv_xVw6SRH",
        "outputId": "5f138dcd-a3e0-44f9-ad17-929ad76f83b6"
      },
      "execution_count": null,
      "outputs": [
        {
          "output_type": "execute_result",
          "data": {
            "text/plain": [
              "Semiurban    233\n",
              "Urban        202\n",
              "Rural        179\n",
              "Name: Property_Area, dtype: int64"
            ]
          },
          "metadata": {},
          "execution_count": 24
        }
      ]
    },
    {
      "cell_type": "markdown",
      "source": [
        "### Get Encoding Of Categorical Features"
      ],
      "metadata": {
        "id": "Ia6qL1vECS7N"
      }
    },
    {
      "cell_type": "code",
      "source": [
        "df.replace({'Gender':{'Male':0,'Female':1}},inplace=True)"
      ],
      "metadata": {
        "id": "iHespW_96Zhg"
      },
      "execution_count": null,
      "outputs": []
    },
    {
      "cell_type": "code",
      "source": [
        "df.replace({'Married':{'No':0,'Yes':1}},inplace=True)"
      ],
      "metadata": {
        "id": "aKagC8zE61Ol"
      },
      "execution_count": null,
      "outputs": []
    },
    {
      "cell_type": "code",
      "source": [
        "df.replace({'Education':{'Not Graduate':0,'Graduate':1}},inplace=True)"
      ],
      "metadata": {
        "id": "yw5tjPr5614r"
      },
      "execution_count": null,
      "outputs": []
    },
    {
      "cell_type": "code",
      "source": [
        "df.replace({'Property_Area':{'Rural':0,'Semiurban':1,'Urban':1}},inplace=True)"
      ],
      "metadata": {
        "id": "FneJej7Y7OTo"
      },
      "execution_count": null,
      "outputs": []
    },
    {
      "cell_type": "code",
      "source": [
        "df.replace({'Self_Employed':{'No':0,'Yes':1}},inplace=True)"
      ],
      "metadata": {
        "id": "jaWe-Tsh62nZ"
      },
      "execution_count": null,
      "outputs": []
    },
    {
      "cell_type": "markdown",
      "source": [
        "### Define y"
      ],
      "metadata": {
        "id": "9sLi42zYCZDC"
      }
    },
    {
      "cell_type": "code",
      "source": [
        "y=df['Loan_Status']"
      ],
      "metadata": {
        "id": "pTkdGVtP7hue"
      },
      "execution_count": null,
      "outputs": []
    },
    {
      "cell_type": "code",
      "source": [
        "y.shape"
      ],
      "metadata": {
        "colab": {
          "base_uri": "https://localhost:8080/"
        },
        "id": "KmW8JlRa7lbf",
        "outputId": "86776f65-50d3-451a-e6f8-fff75d7ad4e8"
      },
      "execution_count": null,
      "outputs": [
        {
          "output_type": "execute_result",
          "data": {
            "text/plain": [
              "(614,)"
            ]
          },
          "metadata": {},
          "execution_count": 33
        }
      ]
    },
    {
      "cell_type": "code",
      "source": [
        "y"
      ],
      "metadata": {
        "colab": {
          "base_uri": "https://localhost:8080/"
        },
        "id": "GS6I4yRw7qF_",
        "outputId": "83f553ab-bd76-482f-857b-2d25e9a1ce35"
      },
      "execution_count": null,
      "outputs": [
        {
          "output_type": "execute_result",
          "data": {
            "text/plain": [
              "0      N\n",
              "1      Y\n",
              "2      Y\n",
              "3      Y\n",
              "4      Y\n",
              "      ..\n",
              "609    N\n",
              "610    N\n",
              "611    N\n",
              "612    Y\n",
              "613    N\n",
              "Name: Loan_Status, Length: 614, dtype: object"
            ]
          },
          "metadata": {},
          "execution_count": 34
        }
      ]
    },
    {
      "cell_type": "code",
      "source": [
        "X=df[['Gender','Married','Dependents','Education','Self_Employed','Applicant_Income','Coapplicant_Income','Loan_Amount','Loan_Amount_Term','Credit_History','Property_Area']]"
      ],
      "metadata": {
        "id": "rAPmGVRu7qwG"
      },
      "execution_count": null,
      "outputs": []
    },
    {
      "cell_type": "code",
      "source": [
        "X=df.drop(['Customer_ID','Loan_Status'],axis=1)"
      ],
      "metadata": {
        "id": "Uc5--TJu8sCm"
      },
      "execution_count": null,
      "outputs": []
    },
    {
      "cell_type": "code",
      "source": [
        "X.shape"
      ],
      "metadata": {
        "colab": {
          "base_uri": "https://localhost:8080/"
        },
        "id": "8O46X_PN89cz",
        "outputId": "0a42e55e-bc70-4fb4-d1af-d57850fea9fd"
      },
      "execution_count": null,
      "outputs": [
        {
          "output_type": "execute_result",
          "data": {
            "text/plain": [
              "(614, 11)"
            ]
          },
          "metadata": {},
          "execution_count": 40
        }
      ]
    },
    {
      "cell_type": "code",
      "source": [
        "X"
      ],
      "metadata": {
        "colab": {
          "base_uri": "https://localhost:8080/",
          "height": 423
        },
        "id": "xzVNFhcE8_7p",
        "outputId": "bbfd6826-815e-47fe-9782-5eb7c189d27d"
      },
      "execution_count": null,
      "outputs": [
        {
          "output_type": "execute_result",
          "data": {
            "text/plain": [
              "     Gender  Married  Dependents  Education  Self_Employed  Applicant_Income  \\\n",
              "0         1        0           0          1              0              2378   \n",
              "1         0        1           2          1              0              1299   \n",
              "2         0        0           0          0              0              3620   \n",
              "3         0        1           0          1              1              3459   \n",
              "4         0        1           1          1              0              5468   \n",
              "..      ...      ...         ...        ...            ...               ...   \n",
              "609       0        1           2          1              0              2947   \n",
              "610       0        0           0          1              0              4680   \n",
              "611       0        1           2          1              1              6633   \n",
              "612       0        1           1          0              0              2492   \n",
              "613       0        1           0          0              0              2400   \n",
              "\n",
              "     Coapplicant_Income  Loan_Amount  Loan_Amount_Term  Credit_History  \\\n",
              "0                   0.0            9               360               1   \n",
              "1                1086.0           17               120               1   \n",
              "2                   0.0           25               120               1   \n",
              "3                   0.0           25               120               1   \n",
              "4                1032.0           26               360               1   \n",
              "..                  ...          ...               ...             ...   \n",
              "609              1603.0           10               360               1   \n",
              "610              2087.0           15               360               1   \n",
              "611                 0.0           25               360               0   \n",
              "612              2375.0           30               360               1   \n",
              "613              3800.0           25               180               1   \n",
              "\n",
              "     Property_Area  \n",
              "0                1  \n",
              "1                1  \n",
              "2                1  \n",
              "3                1  \n",
              "4                1  \n",
              "..             ...  \n",
              "609              1  \n",
              "610              1  \n",
              "611              0  \n",
              "612              0  \n",
              "613              1  \n",
              "\n",
              "[614 rows x 11 columns]"
            ],
            "text/html": [
              "\n",
              "  <div id=\"df-f268fed8-80f1-4838-b161-5de18cfc6db2\">\n",
              "    <div class=\"colab-df-container\">\n",
              "      <div>\n",
              "<style scoped>\n",
              "    .dataframe tbody tr th:only-of-type {\n",
              "        vertical-align: middle;\n",
              "    }\n",
              "\n",
              "    .dataframe tbody tr th {\n",
              "        vertical-align: top;\n",
              "    }\n",
              "\n",
              "    .dataframe thead th {\n",
              "        text-align: right;\n",
              "    }\n",
              "</style>\n",
              "<table border=\"1\" class=\"dataframe\">\n",
              "  <thead>\n",
              "    <tr style=\"text-align: right;\">\n",
              "      <th></th>\n",
              "      <th>Gender</th>\n",
              "      <th>Married</th>\n",
              "      <th>Dependents</th>\n",
              "      <th>Education</th>\n",
              "      <th>Self_Employed</th>\n",
              "      <th>Applicant_Income</th>\n",
              "      <th>Coapplicant_Income</th>\n",
              "      <th>Loan_Amount</th>\n",
              "      <th>Loan_Amount_Term</th>\n",
              "      <th>Credit_History</th>\n",
              "      <th>Property_Area</th>\n",
              "    </tr>\n",
              "  </thead>\n",
              "  <tbody>\n",
              "    <tr>\n",
              "      <th>0</th>\n",
              "      <td>1</td>\n",
              "      <td>0</td>\n",
              "      <td>0</td>\n",
              "      <td>1</td>\n",
              "      <td>0</td>\n",
              "      <td>2378</td>\n",
              "      <td>0.0</td>\n",
              "      <td>9</td>\n",
              "      <td>360</td>\n",
              "      <td>1</td>\n",
              "      <td>1</td>\n",
              "    </tr>\n",
              "    <tr>\n",
              "      <th>1</th>\n",
              "      <td>0</td>\n",
              "      <td>1</td>\n",
              "      <td>2</td>\n",
              "      <td>1</td>\n",
              "      <td>0</td>\n",
              "      <td>1299</td>\n",
              "      <td>1086.0</td>\n",
              "      <td>17</td>\n",
              "      <td>120</td>\n",
              "      <td>1</td>\n",
              "      <td>1</td>\n",
              "    </tr>\n",
              "    <tr>\n",
              "      <th>2</th>\n",
              "      <td>0</td>\n",
              "      <td>0</td>\n",
              "      <td>0</td>\n",
              "      <td>0</td>\n",
              "      <td>0</td>\n",
              "      <td>3620</td>\n",
              "      <td>0.0</td>\n",
              "      <td>25</td>\n",
              "      <td>120</td>\n",
              "      <td>1</td>\n",
              "      <td>1</td>\n",
              "    </tr>\n",
              "    <tr>\n",
              "      <th>3</th>\n",
              "      <td>0</td>\n",
              "      <td>1</td>\n",
              "      <td>0</td>\n",
              "      <td>1</td>\n",
              "      <td>1</td>\n",
              "      <td>3459</td>\n",
              "      <td>0.0</td>\n",
              "      <td>25</td>\n",
              "      <td>120</td>\n",
              "      <td>1</td>\n",
              "      <td>1</td>\n",
              "    </tr>\n",
              "    <tr>\n",
              "      <th>4</th>\n",
              "      <td>0</td>\n",
              "      <td>1</td>\n",
              "      <td>1</td>\n",
              "      <td>1</td>\n",
              "      <td>0</td>\n",
              "      <td>5468</td>\n",
              "      <td>1032.0</td>\n",
              "      <td>26</td>\n",
              "      <td>360</td>\n",
              "      <td>1</td>\n",
              "      <td>1</td>\n",
              "    </tr>\n",
              "    <tr>\n",
              "      <th>...</th>\n",
              "      <td>...</td>\n",
              "      <td>...</td>\n",
              "      <td>...</td>\n",
              "      <td>...</td>\n",
              "      <td>...</td>\n",
              "      <td>...</td>\n",
              "      <td>...</td>\n",
              "      <td>...</td>\n",
              "      <td>...</td>\n",
              "      <td>...</td>\n",
              "      <td>...</td>\n",
              "    </tr>\n",
              "    <tr>\n",
              "      <th>609</th>\n",
              "      <td>0</td>\n",
              "      <td>1</td>\n",
              "      <td>2</td>\n",
              "      <td>1</td>\n",
              "      <td>0</td>\n",
              "      <td>2947</td>\n",
              "      <td>1603.0</td>\n",
              "      <td>10</td>\n",
              "      <td>360</td>\n",
              "      <td>1</td>\n",
              "      <td>1</td>\n",
              "    </tr>\n",
              "    <tr>\n",
              "      <th>610</th>\n",
              "      <td>0</td>\n",
              "      <td>0</td>\n",
              "      <td>0</td>\n",
              "      <td>1</td>\n",
              "      <td>0</td>\n",
              "      <td>4680</td>\n",
              "      <td>2087.0</td>\n",
              "      <td>15</td>\n",
              "      <td>360</td>\n",
              "      <td>1</td>\n",
              "      <td>1</td>\n",
              "    </tr>\n",
              "    <tr>\n",
              "      <th>611</th>\n",
              "      <td>0</td>\n",
              "      <td>1</td>\n",
              "      <td>2</td>\n",
              "      <td>1</td>\n",
              "      <td>1</td>\n",
              "      <td>6633</td>\n",
              "      <td>0.0</td>\n",
              "      <td>25</td>\n",
              "      <td>360</td>\n",
              "      <td>0</td>\n",
              "      <td>0</td>\n",
              "    </tr>\n",
              "    <tr>\n",
              "      <th>612</th>\n",
              "      <td>0</td>\n",
              "      <td>1</td>\n",
              "      <td>1</td>\n",
              "      <td>0</td>\n",
              "      <td>0</td>\n",
              "      <td>2492</td>\n",
              "      <td>2375.0</td>\n",
              "      <td>30</td>\n",
              "      <td>360</td>\n",
              "      <td>1</td>\n",
              "      <td>0</td>\n",
              "    </tr>\n",
              "    <tr>\n",
              "      <th>613</th>\n",
              "      <td>0</td>\n",
              "      <td>1</td>\n",
              "      <td>0</td>\n",
              "      <td>0</td>\n",
              "      <td>0</td>\n",
              "      <td>2400</td>\n",
              "      <td>3800.0</td>\n",
              "      <td>25</td>\n",
              "      <td>180</td>\n",
              "      <td>1</td>\n",
              "      <td>1</td>\n",
              "    </tr>\n",
              "  </tbody>\n",
              "</table>\n",
              "<p>614 rows × 11 columns</p>\n",
              "</div>\n",
              "      <button class=\"colab-df-convert\" onclick=\"convertToInteractive('df-f268fed8-80f1-4838-b161-5de18cfc6db2')\"\n",
              "              title=\"Convert this dataframe to an interactive table.\"\n",
              "              style=\"display:none;\">\n",
              "        \n",
              "  <svg xmlns=\"http://www.w3.org/2000/svg\" height=\"24px\"viewBox=\"0 0 24 24\"\n",
              "       width=\"24px\">\n",
              "    <path d=\"M0 0h24v24H0V0z\" fill=\"none\"/>\n",
              "    <path d=\"M18.56 5.44l.94 2.06.94-2.06 2.06-.94-2.06-.94-.94-2.06-.94 2.06-2.06.94zm-11 1L8.5 8.5l.94-2.06 2.06-.94-2.06-.94L8.5 2.5l-.94 2.06-2.06.94zm10 10l.94 2.06.94-2.06 2.06-.94-2.06-.94-.94-2.06-.94 2.06-2.06.94z\"/><path d=\"M17.41 7.96l-1.37-1.37c-.4-.4-.92-.59-1.43-.59-.52 0-1.04.2-1.43.59L10.3 9.45l-7.72 7.72c-.78.78-.78 2.05 0 2.83L4 21.41c.39.39.9.59 1.41.59.51 0 1.02-.2 1.41-.59l7.78-7.78 2.81-2.81c.8-.78.8-2.07 0-2.86zM5.41 20L4 18.59l7.72-7.72 1.47 1.35L5.41 20z\"/>\n",
              "  </svg>\n",
              "      </button>\n",
              "      \n",
              "  <style>\n",
              "    .colab-df-container {\n",
              "      display:flex;\n",
              "      flex-wrap:wrap;\n",
              "      gap: 12px;\n",
              "    }\n",
              "\n",
              "    .colab-df-convert {\n",
              "      background-color: #E8F0FE;\n",
              "      border: none;\n",
              "      border-radius: 50%;\n",
              "      cursor: pointer;\n",
              "      display: none;\n",
              "      fill: #1967D2;\n",
              "      height: 32px;\n",
              "      padding: 0 0 0 0;\n",
              "      width: 32px;\n",
              "    }\n",
              "\n",
              "    .colab-df-convert:hover {\n",
              "      background-color: #E2EBFA;\n",
              "      box-shadow: 0px 1px 2px rgba(60, 64, 67, 0.3), 0px 1px 3px 1px rgba(60, 64, 67, 0.15);\n",
              "      fill: #174EA6;\n",
              "    }\n",
              "\n",
              "    [theme=dark] .colab-df-convert {\n",
              "      background-color: #3B4455;\n",
              "      fill: #D2E3FC;\n",
              "    }\n",
              "\n",
              "    [theme=dark] .colab-df-convert:hover {\n",
              "      background-color: #434B5C;\n",
              "      box-shadow: 0px 1px 3px 1px rgba(0, 0, 0, 0.15);\n",
              "      filter: drop-shadow(0px 1px 2px rgba(0, 0, 0, 0.3));\n",
              "      fill: #FFFFFF;\n",
              "    }\n",
              "  </style>\n",
              "\n",
              "      <script>\n",
              "        const buttonEl =\n",
              "          document.querySelector('#df-f268fed8-80f1-4838-b161-5de18cfc6db2 button.colab-df-convert');\n",
              "        buttonEl.style.display =\n",
              "          google.colab.kernel.accessAllowed ? 'block' : 'none';\n",
              "\n",
              "        async function convertToInteractive(key) {\n",
              "          const element = document.querySelector('#df-f268fed8-80f1-4838-b161-5de18cfc6db2');\n",
              "          const dataTable =\n",
              "            await google.colab.kernel.invokeFunction('convertToInteractive',\n",
              "                                                     [key], {});\n",
              "          if (!dataTable) return;\n",
              "\n",
              "          const docLinkHtml = 'Like what you see? Visit the ' +\n",
              "            '<a target=\"_blank\" href=https://colab.research.google.com/notebooks/data_table.ipynb>data table notebook</a>'\n",
              "            + ' to learn more about interactive tables.';\n",
              "          element.innerHTML = '';\n",
              "          dataTable['output_type'] = 'display_data';\n",
              "          await google.colab.output.renderOutput(dataTable, element);\n",
              "          const docLink = document.createElement('div');\n",
              "          docLink.innerHTML = docLinkHtml;\n",
              "          element.appendChild(docLink);\n",
              "        }\n",
              "      </script>\n",
              "    </div>\n",
              "  </div>\n",
              "  "
            ]
          },
          "metadata": {},
          "execution_count": 41
        }
      ]
    },
    {
      "cell_type": "markdown",
      "source": [
        "### Get X Variables Standrdized"
      ],
      "metadata": {
        "id": "53Q2WGhSCe9X"
      }
    },
    {
      "cell_type": "code",
      "source": [
        "X_std=X[['Applicant_Income','Coapplicant_Income','Loan_Amount','Loan_Amount_Term']]"
      ],
      "metadata": {
        "id": "XJuk05j99ABF"
      },
      "execution_count": null,
      "outputs": []
    },
    {
      "cell_type": "code",
      "source": [
        "from sklearn.preprocessing import StandardScaler"
      ],
      "metadata": {
        "id": "N8lOx_Qw9cp0"
      },
      "execution_count": null,
      "outputs": []
    },
    {
      "cell_type": "code",
      "source": [
        "ss=StandardScaler()"
      ],
      "metadata": {
        "id": "Elf6cTik9nno"
      },
      "execution_count": null,
      "outputs": []
    },
    {
      "cell_type": "code",
      "source": [
        "X_std=ss.fit_transform(X_std)"
      ],
      "metadata": {
        "id": "BPX8qpPU9kxD"
      },
      "execution_count": null,
      "outputs": []
    },
    {
      "cell_type": "code",
      "source": [
        "X_std"
      ],
      "metadata": {
        "colab": {
          "base_uri": "https://localhost:8080/"
        },
        "id": "jJRn7IlW-Ai1",
        "outputId": "ce53e2be-1640-4141-f097-b2e89b5a8354"
      },
      "execution_count": null,
      "outputs": [
        {
          "output_type": "execute_result",
          "data": {
            "text/plain": [
              "array([[-0.49564665, -0.55448733, -1.52878429,  0.30300926],\n",
              "       [-0.6724141 , -0.18306108, -1.4368431 , -3.14231829],\n",
              "       [-0.29217568, -0.55448733, -1.34490192, -3.14231829],\n",
              "       ...,\n",
              "       [ 0.20142983, -0.55448733, -1.34490192,  0.30300926],\n",
              "       [-0.47697057,  0.25779382, -1.28743867,  0.30300926],\n",
              "       [-0.49204249,  0.74516252, -1.34490192, -2.2809864 ]])"
            ]
          },
          "metadata": {},
          "execution_count": 50
        }
      ]
    },
    {
      "cell_type": "code",
      "source": [
        "X_std=X[['Applicant_Income','Coapplicant_Income','Loan_Amount','Loan_Amount_Term']]=pd.DataFrame(X_std,columns=['Applicant_Income','Coapplicant_Income','Loan_Amount','Loan_Amount_Term'])"
      ],
      "metadata": {
        "id": "xcIKRjp2-KIb"
      },
      "execution_count": null,
      "outputs": []
    },
    {
      "cell_type": "code",
      "source": [
        "X"
      ],
      "metadata": {
        "colab": {
          "base_uri": "https://localhost:8080/",
          "height": 423
        },
        "id": "5TVbjW6M-klN",
        "outputId": "74feee8f-acd3-4c55-f83d-7ec2141ea39f"
      },
      "execution_count": null,
      "outputs": [
        {
          "output_type": "execute_result",
          "data": {
            "text/plain": [
              "     Gender  Married  Dependents  Education  Self_Employed  Applicant_Income  \\\n",
              "0         1        0           0          1              0         -0.495647   \n",
              "1         0        1           2          1              0         -0.672414   \n",
              "2         0        0           0          0              0         -0.292176   \n",
              "3         0        1           0          1              1         -0.318552   \n",
              "4         0        1           1          1              0          0.010573   \n",
              "..      ...      ...         ...        ...            ...               ...   \n",
              "609       0        1           2          1              0         -0.402430   \n",
              "610       0        0           0          1              0         -0.118521   \n",
              "611       0        1           2          1              1          0.201430   \n",
              "612       0        1           1          0              0         -0.476971   \n",
              "613       0        1           0          0              0         -0.492042   \n",
              "\n",
              "     Coapplicant_Income  Loan_Amount  Loan_Amount_Term  Credit_History  \\\n",
              "0             -0.554487    -1.528784          0.303009               1   \n",
              "1             -0.183061    -1.436843         -3.142318               1   \n",
              "2             -0.554487    -1.344902         -3.142318               1   \n",
              "3             -0.554487    -1.344902         -3.142318               1   \n",
              "4             -0.201530    -1.333409          0.303009               1   \n",
              "..                  ...          ...               ...             ...   \n",
              "609           -0.006240    -1.517292          0.303009               1   \n",
              "610            0.159294    -1.459828          0.303009               1   \n",
              "611           -0.554487    -1.344902          0.303009               0   \n",
              "612            0.257794    -1.287439          0.303009               1   \n",
              "613            0.745163    -1.344902         -2.280986               1   \n",
              "\n",
              "     Property_Area  \n",
              "0                1  \n",
              "1                1  \n",
              "2                1  \n",
              "3                1  \n",
              "4                1  \n",
              "..             ...  \n",
              "609              1  \n",
              "610              1  \n",
              "611              0  \n",
              "612              0  \n",
              "613              1  \n",
              "\n",
              "[614 rows x 11 columns]"
            ],
            "text/html": [
              "\n",
              "  <div id=\"df-beee9e18-22f6-4c2a-8170-441359946c62\">\n",
              "    <div class=\"colab-df-container\">\n",
              "      <div>\n",
              "<style scoped>\n",
              "    .dataframe tbody tr th:only-of-type {\n",
              "        vertical-align: middle;\n",
              "    }\n",
              "\n",
              "    .dataframe tbody tr th {\n",
              "        vertical-align: top;\n",
              "    }\n",
              "\n",
              "    .dataframe thead th {\n",
              "        text-align: right;\n",
              "    }\n",
              "</style>\n",
              "<table border=\"1\" class=\"dataframe\">\n",
              "  <thead>\n",
              "    <tr style=\"text-align: right;\">\n",
              "      <th></th>\n",
              "      <th>Gender</th>\n",
              "      <th>Married</th>\n",
              "      <th>Dependents</th>\n",
              "      <th>Education</th>\n",
              "      <th>Self_Employed</th>\n",
              "      <th>Applicant_Income</th>\n",
              "      <th>Coapplicant_Income</th>\n",
              "      <th>Loan_Amount</th>\n",
              "      <th>Loan_Amount_Term</th>\n",
              "      <th>Credit_History</th>\n",
              "      <th>Property_Area</th>\n",
              "    </tr>\n",
              "  </thead>\n",
              "  <tbody>\n",
              "    <tr>\n",
              "      <th>0</th>\n",
              "      <td>1</td>\n",
              "      <td>0</td>\n",
              "      <td>0</td>\n",
              "      <td>1</td>\n",
              "      <td>0</td>\n",
              "      <td>-0.495647</td>\n",
              "      <td>-0.554487</td>\n",
              "      <td>-1.528784</td>\n",
              "      <td>0.303009</td>\n",
              "      <td>1</td>\n",
              "      <td>1</td>\n",
              "    </tr>\n",
              "    <tr>\n",
              "      <th>1</th>\n",
              "      <td>0</td>\n",
              "      <td>1</td>\n",
              "      <td>2</td>\n",
              "      <td>1</td>\n",
              "      <td>0</td>\n",
              "      <td>-0.672414</td>\n",
              "      <td>-0.183061</td>\n",
              "      <td>-1.436843</td>\n",
              "      <td>-3.142318</td>\n",
              "      <td>1</td>\n",
              "      <td>1</td>\n",
              "    </tr>\n",
              "    <tr>\n",
              "      <th>2</th>\n",
              "      <td>0</td>\n",
              "      <td>0</td>\n",
              "      <td>0</td>\n",
              "      <td>0</td>\n",
              "      <td>0</td>\n",
              "      <td>-0.292176</td>\n",
              "      <td>-0.554487</td>\n",
              "      <td>-1.344902</td>\n",
              "      <td>-3.142318</td>\n",
              "      <td>1</td>\n",
              "      <td>1</td>\n",
              "    </tr>\n",
              "    <tr>\n",
              "      <th>3</th>\n",
              "      <td>0</td>\n",
              "      <td>1</td>\n",
              "      <td>0</td>\n",
              "      <td>1</td>\n",
              "      <td>1</td>\n",
              "      <td>-0.318552</td>\n",
              "      <td>-0.554487</td>\n",
              "      <td>-1.344902</td>\n",
              "      <td>-3.142318</td>\n",
              "      <td>1</td>\n",
              "      <td>1</td>\n",
              "    </tr>\n",
              "    <tr>\n",
              "      <th>4</th>\n",
              "      <td>0</td>\n",
              "      <td>1</td>\n",
              "      <td>1</td>\n",
              "      <td>1</td>\n",
              "      <td>0</td>\n",
              "      <td>0.010573</td>\n",
              "      <td>-0.201530</td>\n",
              "      <td>-1.333409</td>\n",
              "      <td>0.303009</td>\n",
              "      <td>1</td>\n",
              "      <td>1</td>\n",
              "    </tr>\n",
              "    <tr>\n",
              "      <th>...</th>\n",
              "      <td>...</td>\n",
              "      <td>...</td>\n",
              "      <td>...</td>\n",
              "      <td>...</td>\n",
              "      <td>...</td>\n",
              "      <td>...</td>\n",
              "      <td>...</td>\n",
              "      <td>...</td>\n",
              "      <td>...</td>\n",
              "      <td>...</td>\n",
              "      <td>...</td>\n",
              "    </tr>\n",
              "    <tr>\n",
              "      <th>609</th>\n",
              "      <td>0</td>\n",
              "      <td>1</td>\n",
              "      <td>2</td>\n",
              "      <td>1</td>\n",
              "      <td>0</td>\n",
              "      <td>-0.402430</td>\n",
              "      <td>-0.006240</td>\n",
              "      <td>-1.517292</td>\n",
              "      <td>0.303009</td>\n",
              "      <td>1</td>\n",
              "      <td>1</td>\n",
              "    </tr>\n",
              "    <tr>\n",
              "      <th>610</th>\n",
              "      <td>0</td>\n",
              "      <td>0</td>\n",
              "      <td>0</td>\n",
              "      <td>1</td>\n",
              "      <td>0</td>\n",
              "      <td>-0.118521</td>\n",
              "      <td>0.159294</td>\n",
              "      <td>-1.459828</td>\n",
              "      <td>0.303009</td>\n",
              "      <td>1</td>\n",
              "      <td>1</td>\n",
              "    </tr>\n",
              "    <tr>\n",
              "      <th>611</th>\n",
              "      <td>0</td>\n",
              "      <td>1</td>\n",
              "      <td>2</td>\n",
              "      <td>1</td>\n",
              "      <td>1</td>\n",
              "      <td>0.201430</td>\n",
              "      <td>-0.554487</td>\n",
              "      <td>-1.344902</td>\n",
              "      <td>0.303009</td>\n",
              "      <td>0</td>\n",
              "      <td>0</td>\n",
              "    </tr>\n",
              "    <tr>\n",
              "      <th>612</th>\n",
              "      <td>0</td>\n",
              "      <td>1</td>\n",
              "      <td>1</td>\n",
              "      <td>0</td>\n",
              "      <td>0</td>\n",
              "      <td>-0.476971</td>\n",
              "      <td>0.257794</td>\n",
              "      <td>-1.287439</td>\n",
              "      <td>0.303009</td>\n",
              "      <td>1</td>\n",
              "      <td>0</td>\n",
              "    </tr>\n",
              "    <tr>\n",
              "      <th>613</th>\n",
              "      <td>0</td>\n",
              "      <td>1</td>\n",
              "      <td>0</td>\n",
              "      <td>0</td>\n",
              "      <td>0</td>\n",
              "      <td>-0.492042</td>\n",
              "      <td>0.745163</td>\n",
              "      <td>-1.344902</td>\n",
              "      <td>-2.280986</td>\n",
              "      <td>1</td>\n",
              "      <td>1</td>\n",
              "    </tr>\n",
              "  </tbody>\n",
              "</table>\n",
              "<p>614 rows × 11 columns</p>\n",
              "</div>\n",
              "      <button class=\"colab-df-convert\" onclick=\"convertToInteractive('df-beee9e18-22f6-4c2a-8170-441359946c62')\"\n",
              "              title=\"Convert this dataframe to an interactive table.\"\n",
              "              style=\"display:none;\">\n",
              "        \n",
              "  <svg xmlns=\"http://www.w3.org/2000/svg\" height=\"24px\"viewBox=\"0 0 24 24\"\n",
              "       width=\"24px\">\n",
              "    <path d=\"M0 0h24v24H0V0z\" fill=\"none\"/>\n",
              "    <path d=\"M18.56 5.44l.94 2.06.94-2.06 2.06-.94-2.06-.94-.94-2.06-.94 2.06-2.06.94zm-11 1L8.5 8.5l.94-2.06 2.06-.94-2.06-.94L8.5 2.5l-.94 2.06-2.06.94zm10 10l.94 2.06.94-2.06 2.06-.94-2.06-.94-.94-2.06-.94 2.06-2.06.94z\"/><path d=\"M17.41 7.96l-1.37-1.37c-.4-.4-.92-.59-1.43-.59-.52 0-1.04.2-1.43.59L10.3 9.45l-7.72 7.72c-.78.78-.78 2.05 0 2.83L4 21.41c.39.39.9.59 1.41.59.51 0 1.02-.2 1.41-.59l7.78-7.78 2.81-2.81c.8-.78.8-2.07 0-2.86zM5.41 20L4 18.59l7.72-7.72 1.47 1.35L5.41 20z\"/>\n",
              "  </svg>\n",
              "      </button>\n",
              "      \n",
              "  <style>\n",
              "    .colab-df-container {\n",
              "      display:flex;\n",
              "      flex-wrap:wrap;\n",
              "      gap: 12px;\n",
              "    }\n",
              "\n",
              "    .colab-df-convert {\n",
              "      background-color: #E8F0FE;\n",
              "      border: none;\n",
              "      border-radius: 50%;\n",
              "      cursor: pointer;\n",
              "      display: none;\n",
              "      fill: #1967D2;\n",
              "      height: 32px;\n",
              "      padding: 0 0 0 0;\n",
              "      width: 32px;\n",
              "    }\n",
              "\n",
              "    .colab-df-convert:hover {\n",
              "      background-color: #E2EBFA;\n",
              "      box-shadow: 0px 1px 2px rgba(60, 64, 67, 0.3), 0px 1px 3px 1px rgba(60, 64, 67, 0.15);\n",
              "      fill: #174EA6;\n",
              "    }\n",
              "\n",
              "    [theme=dark] .colab-df-convert {\n",
              "      background-color: #3B4455;\n",
              "      fill: #D2E3FC;\n",
              "    }\n",
              "\n",
              "    [theme=dark] .colab-df-convert:hover {\n",
              "      background-color: #434B5C;\n",
              "      box-shadow: 0px 1px 3px 1px rgba(0, 0, 0, 0.15);\n",
              "      filter: drop-shadow(0px 1px 2px rgba(0, 0, 0, 0.3));\n",
              "      fill: #FFFFFF;\n",
              "    }\n",
              "  </style>\n",
              "\n",
              "      <script>\n",
              "        const buttonEl =\n",
              "          document.querySelector('#df-beee9e18-22f6-4c2a-8170-441359946c62 button.colab-df-convert');\n",
              "        buttonEl.style.display =\n",
              "          google.colab.kernel.accessAllowed ? 'block' : 'none';\n",
              "\n",
              "        async function convertToInteractive(key) {\n",
              "          const element = document.querySelector('#df-beee9e18-22f6-4c2a-8170-441359946c62');\n",
              "          const dataTable =\n",
              "            await google.colab.kernel.invokeFunction('convertToInteractive',\n",
              "                                                     [key], {});\n",
              "          if (!dataTable) return;\n",
              "\n",
              "          const docLinkHtml = 'Like what you see? Visit the ' +\n",
              "            '<a target=\"_blank\" href=https://colab.research.google.com/notebooks/data_table.ipynb>data table notebook</a>'\n",
              "            + ' to learn more about interactive tables.';\n",
              "          element.innerHTML = '';\n",
              "          dataTable['output_type'] = 'display_data';\n",
              "          await google.colab.output.renderOutput(dataTable, element);\n",
              "          const docLink = document.createElement('div');\n",
              "          docLink.innerHTML = docLinkHtml;\n",
              "          element.appendChild(docLink);\n",
              "        }\n",
              "      </script>\n",
              "    </div>\n",
              "  </div>\n",
              "  "
            ]
          },
          "metadata": {},
          "execution_count": 53
        }
      ]
    },
    {
      "cell_type": "markdown",
      "source": [
        "### Get Train Test Split"
      ],
      "metadata": {
        "id": "SW0r7LpiCnl2"
      }
    },
    {
      "cell_type": "code",
      "source": [
        "from sklearn.model_selection import train_test_split"
      ],
      "metadata": {
        "id": "lCZnQTUu-ym5"
      },
      "execution_count": null,
      "outputs": []
    },
    {
      "cell_type": "code",
      "source": [
        "X_train,X_test,y_train,y_test=train_test_split(X,y,test_size=0.3,stratify=y,random_state=2529)"
      ],
      "metadata": {
        "id": "dcb_UVgw-3HU"
      },
      "execution_count": null,
      "outputs": []
    },
    {
      "cell_type": "code",
      "source": [
        "X_train.shape,X_test.shape,y_train.shape,y_test.shape"
      ],
      "metadata": {
        "colab": {
          "base_uri": "https://localhost:8080/"
        },
        "id": "EIrv9P7d-52G",
        "outputId": "e9e7f37e-08a1-4998-de8f-620ca29e0a86"
      },
      "execution_count": null,
      "outputs": [
        {
          "output_type": "execute_result",
          "data": {
            "text/plain": [
              "((429, 11), (185, 11), (429,), (185,))"
            ]
          },
          "metadata": {},
          "execution_count": 58
        }
      ]
    },
    {
      "cell_type": "markdown",
      "source": [
        "### Get Model Train"
      ],
      "metadata": {
        "id": "cZ300Ek2Crz3"
      }
    },
    {
      "cell_type": "code",
      "source": [
        "from sklearn.tree import DecisionTreeClassifier"
      ],
      "metadata": {
        "id": "Atf9w4VP_Fse"
      },
      "execution_count": null,
      "outputs": []
    },
    {
      "cell_type": "code",
      "source": [
        "dt=DecisionTreeClassifier(max_depth=3,random_state=2529)"
      ],
      "metadata": {
        "id": "Z0N1Ji68_P9R"
      },
      "execution_count": null,
      "outputs": []
    },
    {
      "cell_type": "code",
      "source": [
        "dt.fit(X_train,y_train)"
      ],
      "metadata": {
        "colab": {
          "base_uri": "https://localhost:8080/"
        },
        "id": "jYygdoZk_bFG",
        "outputId": "796dab28-7cc0-42f8-e2ef-18988f3b6435"
      },
      "execution_count": null,
      "outputs": [
        {
          "output_type": "execute_result",
          "data": {
            "text/plain": [
              "DecisionTreeClassifier(max_depth=3, random_state=2529)"
            ]
          },
          "metadata": {},
          "execution_count": 63
        }
      ]
    },
    {
      "cell_type": "markdown",
      "source": [
        "### Get Model Prediction"
      ],
      "metadata": {
        "id": "Hbp6TPctCxtq"
      }
    },
    {
      "cell_type": "code",
      "source": [
        "y_pred=dt.predict(X_test)"
      ],
      "metadata": {
        "id": "zkP2MiEm_f8j"
      },
      "execution_count": null,
      "outputs": []
    },
    {
      "cell_type": "code",
      "source": [
        "y_pred.shape"
      ],
      "metadata": {
        "colab": {
          "base_uri": "https://localhost:8080/"
        },
        "id": "b7VVhJwE_hzO",
        "outputId": "09006b33-36fc-41f1-fb06-dc5c5c78ae4b"
      },
      "execution_count": null,
      "outputs": [
        {
          "output_type": "execute_result",
          "data": {
            "text/plain": [
              "(185,)"
            ]
          },
          "metadata": {},
          "execution_count": 66
        }
      ]
    },
    {
      "cell_type": "code",
      "source": [
        "y_pred"
      ],
      "metadata": {
        "colab": {
          "base_uri": "https://localhost:8080/"
        },
        "id": "o4sv48HN_lqP",
        "outputId": "85403007-b9df-443c-c51d-bebacfbe7bbc"
      },
      "execution_count": null,
      "outputs": [
        {
          "output_type": "execute_result",
          "data": {
            "text/plain": [
              "array(['Y', 'N', 'Y', 'Y', 'Y', 'Y', 'Y', 'Y', 'Y', 'Y', 'Y', 'Y', 'Y',\n",
              "       'Y', 'Y', 'N', 'N', 'Y', 'Y', 'Y', 'Y', 'Y', 'Y', 'Y', 'N', 'Y',\n",
              "       'Y', 'Y', 'N', 'Y', 'N', 'Y', 'Y', 'Y', 'Y', 'Y', 'N', 'Y', 'N',\n",
              "       'Y', 'Y', 'Y', 'N', 'Y', 'Y', 'Y', 'Y', 'N', 'Y', 'Y', 'Y', 'N',\n",
              "       'Y', 'Y', 'Y', 'Y', 'N', 'Y', 'Y', 'Y', 'Y', 'Y', 'Y', 'Y', 'Y',\n",
              "       'Y', 'Y', 'Y', 'Y', 'Y', 'Y', 'Y', 'Y', 'Y', 'Y', 'Y', 'Y', 'Y',\n",
              "       'Y', 'Y', 'Y', 'Y', 'Y', 'Y', 'Y', 'Y', 'Y', 'Y', 'Y', 'Y', 'Y',\n",
              "       'Y', 'Y', 'Y', 'Y', 'Y', 'Y', 'Y', 'Y', 'Y', 'N', 'Y', 'Y', 'Y',\n",
              "       'Y', 'Y', 'Y', 'Y', 'Y', 'Y', 'Y', 'Y', 'Y', 'Y', 'Y', 'Y', 'Y',\n",
              "       'Y', 'Y', 'Y', 'Y', 'Y', 'N', 'Y', 'Y', 'Y', 'Y', 'Y', 'N', 'Y',\n",
              "       'Y', 'Y', 'Y', 'N', 'Y', 'Y', 'N', 'Y', 'Y', 'N', 'N', 'N', 'Y',\n",
              "       'Y', 'Y', 'Y', 'Y', 'Y', 'Y', 'Y', 'Y', 'Y', 'N', 'Y', 'Y', 'Y',\n",
              "       'Y', 'Y', 'Y', 'Y', 'Y', 'Y', 'Y', 'Y', 'Y', 'N', 'Y', 'Y', 'Y',\n",
              "       'N', 'Y', 'N', 'N', 'Y', 'N', 'Y', 'Y', 'Y', 'Y', 'Y', 'Y', 'Y',\n",
              "       'Y', 'Y', 'Y'], dtype=object)"
            ]
          },
          "metadata": {},
          "execution_count": 67
        }
      ]
    },
    {
      "cell_type": "markdown",
      "source": [
        "### Get Probablity of Each Predicted Class"
      ],
      "metadata": {
        "id": "PvwiXKy5C0sY"
      }
    },
    {
      "cell_type": "code",
      "source": [
        "dt.predict_proba(X_test)"
      ],
      "metadata": {
        "colab": {
          "base_uri": "https://localhost:8080/"
        },
        "id": "sGYVry_X_5w6",
        "outputId": "039a53d8-96fc-4ea1-b88f-fde2045889f7"
      },
      "execution_count": null,
      "outputs": [
        {
          "output_type": "execute_result",
          "data": {
            "text/plain": [
              "array([[0.1547619 , 0.8452381 ],\n",
              "       [0.85294118, 0.14705882],\n",
              "       [0.1547619 , 0.8452381 ],\n",
              "       [0.1547619 , 0.8452381 ],\n",
              "       [0.1547619 , 0.8452381 ],\n",
              "       [0.1547619 , 0.8452381 ],\n",
              "       [0.1547619 , 0.8452381 ],\n",
              "       [0.1547619 , 0.8452381 ],\n",
              "       [0.29245283, 0.70754717],\n",
              "       [0.1547619 , 0.8452381 ],\n",
              "       [0.29245283, 0.70754717],\n",
              "       [0.1547619 , 0.8452381 ],\n",
              "       [0.29245283, 0.70754717],\n",
              "       [0.1547619 , 0.8452381 ],\n",
              "       [0.29245283, 0.70754717],\n",
              "       [0.85294118, 0.14705882],\n",
              "       [0.85294118, 0.14705882],\n",
              "       [0.1547619 , 0.8452381 ],\n",
              "       [0.1547619 , 0.8452381 ],\n",
              "       [0.1547619 , 0.8452381 ],\n",
              "       [0.1547619 , 0.8452381 ],\n",
              "       [0.1547619 , 0.8452381 ],\n",
              "       [0.1547619 , 0.8452381 ],\n",
              "       [0.1547619 , 0.8452381 ],\n",
              "       [0.85294118, 0.14705882],\n",
              "       [0.29245283, 0.70754717],\n",
              "       [0.1547619 , 0.8452381 ],\n",
              "       [0.29245283, 0.70754717],\n",
              "       [0.85294118, 0.14705882],\n",
              "       [0.1547619 , 0.8452381 ],\n",
              "       [1.        , 0.        ],\n",
              "       [0.1547619 , 0.8452381 ],\n",
              "       [0.1547619 , 0.8452381 ],\n",
              "       [0.1547619 , 0.8452381 ],\n",
              "       [0.1547619 , 0.8452381 ],\n",
              "       [0.1547619 , 0.8452381 ],\n",
              "       [0.85294118, 0.14705882],\n",
              "       [0.1547619 , 0.8452381 ],\n",
              "       [1.        , 0.        ],\n",
              "       [0.1547619 , 0.8452381 ],\n",
              "       [0.1547619 , 0.8452381 ],\n",
              "       [0.29245283, 0.70754717],\n",
              "       [1.        , 0.        ],\n",
              "       [0.29245283, 0.70754717],\n",
              "       [0.1547619 , 0.8452381 ],\n",
              "       [0.1547619 , 0.8452381 ],\n",
              "       [0.1547619 , 0.8452381 ],\n",
              "       [0.85294118, 0.14705882],\n",
              "       [0.1547619 , 0.8452381 ],\n",
              "       [0.1547619 , 0.8452381 ],\n",
              "       [0.1547619 , 0.8452381 ],\n",
              "       [0.85294118, 0.14705882],\n",
              "       [0.1547619 , 0.8452381 ],\n",
              "       [0.29245283, 0.70754717],\n",
              "       [0.1547619 , 0.8452381 ],\n",
              "       [0.1547619 , 0.8452381 ],\n",
              "       [0.85294118, 0.14705882],\n",
              "       [0.1547619 , 0.8452381 ],\n",
              "       [0.1547619 , 0.8452381 ],\n",
              "       [0.29245283, 0.70754717],\n",
              "       [0.29245283, 0.70754717],\n",
              "       [0.29245283, 0.70754717],\n",
              "       [0.1547619 , 0.8452381 ],\n",
              "       [0.1547619 , 0.8452381 ],\n",
              "       [0.1547619 , 0.8452381 ],\n",
              "       [0.1547619 , 0.8452381 ],\n",
              "       [0.29245283, 0.70754717],\n",
              "       [0.29245283, 0.70754717],\n",
              "       [0.29245283, 0.70754717],\n",
              "       [0.1547619 , 0.8452381 ],\n",
              "       [0.1547619 , 0.8452381 ],\n",
              "       [0.1547619 , 0.8452381 ],\n",
              "       [0.1547619 , 0.8452381 ],\n",
              "       [0.29245283, 0.70754717],\n",
              "       [0.1547619 , 0.8452381 ],\n",
              "       [0.1547619 , 0.8452381 ],\n",
              "       [0.29245283, 0.70754717],\n",
              "       [0.1547619 , 0.8452381 ],\n",
              "       [0.1547619 , 0.8452381 ],\n",
              "       [0.1547619 , 0.8452381 ],\n",
              "       [0.1547619 , 0.8452381 ],\n",
              "       [0.1547619 , 0.8452381 ],\n",
              "       [0.1547619 , 0.8452381 ],\n",
              "       [0.29245283, 0.70754717],\n",
              "       [0.1547619 , 0.8452381 ],\n",
              "       [0.29245283, 0.70754717],\n",
              "       [0.1547619 , 0.8452381 ],\n",
              "       [0.29245283, 0.70754717],\n",
              "       [0.1547619 , 0.8452381 ],\n",
              "       [0.1547619 , 0.8452381 ],\n",
              "       [0.1547619 , 0.8452381 ],\n",
              "       [0.1547619 , 0.8452381 ],\n",
              "       [0.1547619 , 0.8452381 ],\n",
              "       [0.1547619 , 0.8452381 ],\n",
              "       [0.1547619 , 0.8452381 ],\n",
              "       [0.1547619 , 0.8452381 ],\n",
              "       [0.1547619 , 0.8452381 ],\n",
              "       [0.1547619 , 0.8452381 ],\n",
              "       [0.1547619 , 0.8452381 ],\n",
              "       [0.1547619 , 0.8452381 ],\n",
              "       [0.85294118, 0.14705882],\n",
              "       [0.1547619 , 0.8452381 ],\n",
              "       [0.1547619 , 0.8452381 ],\n",
              "       [0.29245283, 0.70754717],\n",
              "       [0.29245283, 0.70754717],\n",
              "       [0.29245283, 0.70754717],\n",
              "       [0.1547619 , 0.8452381 ],\n",
              "       [0.1547619 , 0.8452381 ],\n",
              "       [0.1547619 , 0.8452381 ],\n",
              "       [0.1547619 , 0.8452381 ],\n",
              "       [0.1547619 , 0.8452381 ],\n",
              "       [0.29245283, 0.70754717],\n",
              "       [0.29245283, 0.70754717],\n",
              "       [0.1547619 , 0.8452381 ],\n",
              "       [0.1547619 , 0.8452381 ],\n",
              "       [0.1547619 , 0.8452381 ],\n",
              "       [0.1547619 , 0.8452381 ],\n",
              "       [0.29245283, 0.70754717],\n",
              "       [0.29245283, 0.70754717],\n",
              "       [0.29245283, 0.70754717],\n",
              "       [0.1547619 , 0.8452381 ],\n",
              "       [0.29245283, 0.70754717],\n",
              "       [0.85294118, 0.14705882],\n",
              "       [0.1547619 , 0.8452381 ],\n",
              "       [0.1547619 , 0.8452381 ],\n",
              "       [0.1547619 , 0.8452381 ],\n",
              "       [0.1547619 , 0.8452381 ],\n",
              "       [0.1547619 , 0.8452381 ],\n",
              "       [0.85294118, 0.14705882],\n",
              "       [0.1547619 , 0.8452381 ],\n",
              "       [0.29245283, 0.70754717],\n",
              "       [0.1547619 , 0.8452381 ],\n",
              "       [0.1547619 , 0.8452381 ],\n",
              "       [1.        , 0.        ],\n",
              "       [0.29245283, 0.70754717],\n",
              "       [0.1547619 , 0.8452381 ],\n",
              "       [0.85294118, 0.14705882],\n",
              "       [0.1547619 , 0.8452381 ],\n",
              "       [0.1547619 , 0.8452381 ],\n",
              "       [1.        , 0.        ],\n",
              "       [0.85294118, 0.14705882],\n",
              "       [0.85294118, 0.14705882],\n",
              "       [0.1547619 , 0.8452381 ],\n",
              "       [0.1547619 , 0.8452381 ],\n",
              "       [0.1547619 , 0.8452381 ],\n",
              "       [0.1547619 , 0.8452381 ],\n",
              "       [0.29245283, 0.70754717],\n",
              "       [0.29245283, 0.70754717],\n",
              "       [0.1547619 , 0.8452381 ],\n",
              "       [0.1547619 , 0.8452381 ],\n",
              "       [0.29245283, 0.70754717],\n",
              "       [0.29245283, 0.70754717],\n",
              "       [0.85294118, 0.14705882],\n",
              "       [0.29245283, 0.70754717],\n",
              "       [0.29245283, 0.70754717],\n",
              "       [0.1547619 , 0.8452381 ],\n",
              "       [0.1547619 , 0.8452381 ],\n",
              "       [0.1547619 , 0.8452381 ],\n",
              "       [0.1547619 , 0.8452381 ],\n",
              "       [0.1547619 , 0.8452381 ],\n",
              "       [0.1547619 , 0.8452381 ],\n",
              "       [0.29245283, 0.70754717],\n",
              "       [0.1547619 , 0.8452381 ],\n",
              "       [0.1547619 , 0.8452381 ],\n",
              "       [0.1547619 , 0.8452381 ],\n",
              "       [1.        , 0.        ],\n",
              "       [0.29245283, 0.70754717],\n",
              "       [0.29245283, 0.70754717],\n",
              "       [0.29245283, 0.70754717],\n",
              "       [1.        , 0.        ],\n",
              "       [0.1547619 , 0.8452381 ],\n",
              "       [1.        , 0.        ],\n",
              "       [0.85294118, 0.14705882],\n",
              "       [0.1547619 , 0.8452381 ],\n",
              "       [1.        , 0.        ],\n",
              "       [0.1547619 , 0.8452381 ],\n",
              "       [0.1547619 , 0.8452381 ],\n",
              "       [0.1547619 , 0.8452381 ],\n",
              "       [0.29245283, 0.70754717],\n",
              "       [0.1547619 , 0.8452381 ],\n",
              "       [0.1547619 , 0.8452381 ],\n",
              "       [0.29245283, 0.70754717],\n",
              "       [0.1547619 , 0.8452381 ],\n",
              "       [0.29245283, 0.70754717],\n",
              "       [0.29245283, 0.70754717]])"
            ]
          },
          "metadata": {},
          "execution_count": 68
        }
      ]
    },
    {
      "cell_type": "markdown",
      "source": [
        "### Get Model Evaluation"
      ],
      "metadata": {
        "id": "RMf5qkV0C7lF"
      }
    },
    {
      "cell_type": "code",
      "source": [
        "from sklearn.metrics import confusion_matrix,classification_report"
      ],
      "metadata": {
        "id": "dNCE0SdoAEdo"
      },
      "execution_count": null,
      "outputs": []
    },
    {
      "cell_type": "code",
      "source": [
        "print(confusion_matrix(y_test,y_pred))"
      ],
      "metadata": {
        "colab": {
          "base_uri": "https://localhost:8080/"
        },
        "id": "jaC1waoTAGYg",
        "outputId": "95d95928-99ef-416c-b70a-bd864f270271"
      },
      "execution_count": null,
      "outputs": [
        {
          "output_type": "stream",
          "name": "stdout",
          "text": [
            "[[ 22  36]\n",
            " [  4 123]]\n"
          ]
        }
      ]
    },
    {
      "cell_type": "code",
      "source": [
        "print(classification_report(y_test,y_pred))"
      ],
      "metadata": {
        "colab": {
          "base_uri": "https://localhost:8080/"
        },
        "id": "mYdIi6mSAIX6",
        "outputId": "38eb35d0-790a-4f63-8bf9-28889460e5ab"
      },
      "execution_count": null,
      "outputs": [
        {
          "output_type": "stream",
          "name": "stdout",
          "text": [
            "              precision    recall  f1-score   support\n",
            "\n",
            "           N       0.85      0.38      0.52        58\n",
            "           Y       0.77      0.97      0.86       127\n",
            "\n",
            "    accuracy                           0.78       185\n",
            "   macro avg       0.81      0.67      0.69       185\n",
            "weighted avg       0.80      0.78      0.75       185\n",
            "\n"
          ]
        }
      ]
    },
    {
      "cell_type": "markdown",
      "source": [
        "### Get Decision Tree Plot"
      ],
      "metadata": {
        "id": "8kGfVAgsC_gW"
      }
    },
    {
      "cell_type": "code",
      "source": [
        "from sklearn.tree import plot_tree"
      ],
      "metadata": {
        "id": "5CrOB1z0AM5D"
      },
      "execution_count": null,
      "outputs": []
    },
    {
      "cell_type": "code",
      "source": [
        "plt.figure(figsize=(25,30))\n",
        "plot_tree(dt,filled=True);"
      ],
      "metadata": {
        "colab": {
          "base_uri": "https://localhost:8080/",
          "height": 1000
        },
        "id": "8Utay_dOAbhw",
        "outputId": "c357c5b7-d789-44f2-9c20-d8d2fe6a3775"
      },
      "execution_count": null,
      "outputs": [
        {
          "output_type": "display_data",
          "data": {
            "text/plain": [
              "<Figure size 1800x2160 with 1 Axes>"
            ],
            "image/png": "[encoded data removed]"
          },
          "metadata": {
            "needs_background": "light"
          }
        }
      ]
    }
  ]
}